{
 "cells": [
  {
   "cell_type": "code",
   "execution_count": 292,
   "id": "9554652f-1eb0-440b-a4a3-02bf738ac8c5",
   "metadata": {},
   "outputs": [],
   "source": [
    "import pandas as pd"
   ]
  },
  {
   "cell_type": "code",
   "execution_count": 293,
   "id": "5b91d4f6-5bfc-4020-b0a4-e381564f9f1c",
   "metadata": {},
   "outputs": [],
   "source": [
    "# Lire les données à partir d'un fichier CSV\n",
    "data = pd.read_csv('dataset-sell4all.csv')\n"
   ]
  },
  {
   "cell_type": "code",
   "execution_count": 294,
   "id": "998486bc-5b79-4305-9c26-76b72e8b7f42",
   "metadata": {},
   "outputs": [
    {
     "name": "stdout",
     "output_type": "stream",
     "text": [
      "      Pays  Age    Genre Dépenses des clients\n",
      "0   France    32  Female               150.50\n",
      "1  Germany    45    Male               200.75\n",
      "2    Spain    28  Female                75.25\n",
      "3    Italy    39    Male               180.00\n",
      "4       UK    52  Female               250.30\n"
     ]
    }
   ],
   "source": [
    "# Afficher des informations sur les 5 premières lignes\n",
    "print(df.head())\n"
   ]
  },
  {
   "cell_type": "markdown",
   "id": "080e0b5a-e3e9-4a1e-aee2-1626f8ecda6a",
   "metadata": {},
   "source": [
    "# filter 1"
   ]
  },
  {
   "cell_type": "code",
   "execution_count": 295,
   "id": "e6bdbe5f-9eb8-4089-bfee-be9a7de34bfa",
   "metadata": {},
   "outputs": [],
   "source": [
    "# Supprimer les doublons\n",
    "data_cleaned = data_cleaned.drop_duplicates()\n",
    "\n",
    "# Nettoyer les noms des colonnes\n",
    "data.columns = data.columns.str.strip()\n",
    "\n",
    "# Convertir les colonnes 'Age' et 'Dépenses des clients' en valeurs numériques\n",
    "data['Age'] = pd.to_numeric(data['Age'], errors='coerce')\n",
    "data['Dépenses des clients'] = pd.to_numeric(data['Dépenses des clients'], errors='coerce')\n",
    "\n",
    "# Supprimer les lignes contenant des valeurs manquantes dans les colonnes 'Age' et 'Dépenses des clients'\n",
    "data_cleaned = data.dropna(subset=['Age', 'Dépenses des clients'])\n"
   ]
  },
  {
   "cell_type": "markdown",
   "id": "e096d54c-168a-4b75-aba7-345e2801ca1f",
   "metadata": {},
   "source": [
    "# filter 2"
   ]
  },
  {
   "cell_type": "code",
   "execution_count": 296,
   "id": "b813668c-f522-46ee-a191-6143d03c3705",
   "metadata": {},
   "outputs": [],
   "source": [
    "# Liste des noms de pays connus\n",
    "known_countries = [\n",
    "    'United States', 'Canada', 'United Kingdom', 'France', 'Germany', 'Italy', 'Spain', \n",
    "    'Australia', 'Japan', 'China', 'India', 'Brazil', 'South Africa', 'Mexico', 'Argentina',\n",
    "    'South Korea', 'Russia', 'Netherlands', 'Sweden', 'Norway', 'Denmark', 'USA', 'Finland', \n",
    "    'Greece', 'Turkey', 'Portugal', 'Switzerland', 'Belgium', 'Austria', 'Poland', \n",
    "    'Ireland', 'New Zealand', 'Singapore', 'Malaysia', 'Thailand', 'Philippines', 'UK', 'Vietnam',\n",
    "    'Egypt', 'Saudi Arabia', 'United Arab Emirates', 'Israel', 'Jordan', 'Lebanon', \n",
    "    'Kuwait', 'Qatar', 'Oman', 'Bahrain', 'Pakistan', 'Bangladesh', 'Sri Lanka', \n",
    "    'Ukraine', 'Poland', 'Czech Republic', 'Hungary', 'Slovakia', 'Romania', 'Bulgaria', \n",
    "    'Croatia', 'Serbia', 'Bosnia and Herzegovina', 'Montenegro', 'North Macedonia', \n",
    "    'Albania', 'Lithuania', 'Latvia', 'Estonia', 'Belarus', 'Moldova', 'Georgia', 'Armenia', \n",
    "    'Azerbaijan', 'Kazakhstan', 'Uzbekistan', 'Turkmenistan', 'Kyrgyzstan', 'Tajikistan', \n",
    "    'Iraq', 'Syria', 'Yemen', 'Somalia', 'Sudan', 'Libya', 'Morocco', 'Tunisia', \n",
    "    'Algeria', 'Mauritania', 'Senegal', 'Ivory Coast', 'Ghana', 'Nigeria', 'Kenya', \n",
    "    'Ethiopia', 'Uganda', 'Rwanda', 'Burundi', 'Zambia', 'Zimbabwe', 'Botswana', 'Namibia', \n",
    "    'Lesotho', 'Swaziland', 'Malawi', 'Mozambique', 'Angola', 'DR Congo', 'Central African Republic',\n",
    "    'Chad', 'Niger', 'Mali', 'Mauritania', 'Western Sahara', 'Cape Verde'\n",
    "]\n",
    "\n",
    "# Nettoyer les noms des colonnes\n",
    "data.columns = data.columns.str.strip()\n",
    "\n",
    "# Filtrer la colonne 'Pays' pour ne conserver que les noms de pays connus\n",
    "data_cleaned.loc[:, 'Pays'] = data_cleaned['Pays'].apply(lambda x: x if x in known_countries else None)\n",
    "\n",
    "# Supprimer les lignes contenant des noms de pays inconnus\n",
    "data_cleaned = data_cleaned[data_cleaned['Pays'].notna()]\n",
    "\n",
    "# Afficher la liste des noms de pays après nettoyage\n",
    "unique_countries = data_cleaned['Pays'].unique()"
   ]
  },
  {
   "cell_type": "code",
   "execution_count": 297,
   "id": "b901d48c-987f-426d-b38b-734e9ce656c8",
   "metadata": {},
   "outputs": [
    {
     "name": "stdout",
     "output_type": "stream",
     "text": [
      "<class 'pandas.core.frame.DataFrame'>\n",
      "RangeIndex: 65 entries, 0 to 64\n",
      "Data columns (total 4 columns):\n",
      " #   Column                Non-Null Count  Dtype \n",
      "---  ------                --------------  ----- \n",
      " 0   Pays                  65 non-null     object\n",
      " 1    Age                  63 non-null     object\n",
      " 2   Genre                 64 non-null     object\n",
      " 3   Dépenses des clients  64 non-null     object\n",
      "dtypes: object(4)\n",
      "memory usage: 2.2+ KB\n",
      "None\n"
     ]
    }
   ],
   "source": [
    "# Afficher un résumé technique des données\n",
    "print(df.info())\n"
   ]
  },
  {
   "cell_type": "markdown",
   "id": "81dda661-e214-44f2-8e2f-c8ba2003e9a6",
   "metadata": {},
   "source": [
    "### Résumé technique des données\r\n",
    "\r\n",
    "*Nombre de lignes :* 65  \r\n",
    "*Nombre de colonnes :* 4  \r\n",
    "\r\n",
    "*Types de données dans les colonnes :*\r\n",
    "- *Pays :* Texte (object)\r\n",
    "- *Age :* Nombre à virgule flottante (float64)\r\n",
    "- *Genre :* Texte (object)\r\n",
    "- *Dépenses des clients :* Nombre à virgule flottante (float64)\r\n",
    "\r\n",
    "### Détails de l'affichage technique\r\n",
    "\r\n",
    "- *Nombre de lignes :* Il y a 65 lignes dans l'ensemble de données.\r\n",
    "- *Nombre de colonnes :* L'ensemble de données contient quatre colonnes.\r\n",
    "  - *Pays :* Noms des pays tels que \"France\", \"Germany\", \"Spain\", etc.\r\n",
    "  - *Age :* Âges des personnes pouvant contenir des valeurs numériques valides ou invalides (comme NaN ou ∞).\r\n",
    "  - *Genre :* Sexe des personnes tel que \"Female\" et \"Male\", avec certaines valeurs inattendues comme \"Alien\".\r\n",
    "  - *Dépenses des clients :* Dépenses des clients contenant des valeurs numériques valides ou invalides (comme \"100 Galleons\" et \"π\").\r\n",
    "\r\n",
    "*Remarques sur les données :*\r\n",
    "- Les colonnes contiennent des valeurs manquantes ou inattendues telles que NaN et ∞.\r\n",
    "- Il y a des valeurs non numériques dans la colonne Dépenses des clients comme \"100 Galleons\" et \"π\".\r\n",
    "- La colonne Age contient des valeurs non numériques telles que -100 et Not Available.\r\n",
    "- La colonne Pays contient des valeurs composée\n",
    "\n",
    "memory usage: 2.2+ KBs comme \"Greece, Italy\"."
   ]
  },
  {
   "cell_type": "code",
   "execution_count": 298,
   "id": "9861d99e-073f-465d-a624-347b635701db",
   "metadata": {},
   "outputs": [
    {
     "name": "stdout",
     "output_type": "stream",
     "text": [
      "Âge moyen : 37.49\n",
      "Âge médian : 36.00\n",
      "Dépenses moyennes : 156.95\n",
      "Dépenses médianes : 165.00\n"
     ]
    }
   ],
   "source": [
    "# Calculer la moyenne et la médiane de l'âge après nettoyage des données\n",
    "mean_age = data_cleaned['Age'].mean()\n",
    "median_age = data_cleaned['Age'].median()\n",
    "mean_spending = data_cleaned['Dépenses des clients'].mean()\n",
    "median_spending = data_cleaned['Dépenses des clients'].median()\n",
    "\n",
    "# Afficher les résultats avec une mise en forme des nombres\n",
    "print(f\"Âge moyen : {mean_age:.2f}\")\n",
    "print(f\"Âge médian : {median_age:.2f}\")\n",
    "print(f\"Dépenses moyennes : {mean_spending:.2f}\")\n",
    "print(f\"Dépenses médianes : {median_spending:.2f}\")\n"
   ]
  },
  {
   "cell_type": "code",
   "execution_count": 299,
   "id": "7a7df92f-6f3d-44d8-9097-a6bd73a57a42",
   "metadata": {},
   "outputs": [],
   "source": [
    "import matplotlib.pyplot as plt"
   ]
  },
  {
   "cell_type": "markdown",
   "id": "ab4550e7-1c67-481e-abda-c3401a02bcbb",
   "metadata": {},
   "source": [
    "# filter 3"
   ]
  },
  {
   "cell_type": "code",
   "execution_count": 300,
   "id": "9a9efd1b-8c9b-4945-9e9d-7df50cbc2562",
   "metadata": {},
   "outputs": [],
   "source": [
    "# Supprimer les lignes où les dépenses sont inférieures à 10 euros\n",
    "data_cleaned = data_cleaned[data_cleaned['Dépenses des clients'] >= 10]\n"
   ]
  },
  {
   "cell_type": "code",
   "execution_count": 301,
   "id": "a9419aa8-48c0-4961-bc12-a380130fd87e",
   "metadata": {},
   "outputs": [
    {
     "data": {
      "image/png": "[encoded data removed]",
      "text/plain": [
       "<Figure size 1200x800 with 1 Axes>"
      ]
     },
     "metadata": {},
     "output_type": "display_data"
    }
   ],
   "source": [
    "# Préparer les données pour le graphique\n",
    "data_grouped = data_cleaned.groupby('Pays')['Dépenses des clients'].sum()\n",
    "data_grouped_sorted = data_grouped.sort_values(ascending=False)  # Trier les valeurs de la plus grande à la plus petite\n",
    "\n",
    "# Créer un graphique montrant les dépenses par pays\n",
    "plt.figure(figsize=(12, 8))\n",
    "data_grouped_sorted.plot(kind='bar')\n",
    "plt.title('Dépenses totales par pays')\n",
    "plt.xlabel('Pays')\n",
    "plt.ylabel('Dépenses totales (€)')\n",
    "plt.xticks(rotation=45)\n",
    "plt.show()\n"
   ]
  },
  {
   "cell_type": "code",
   "execution_count": 302,
   "id": "c076a724-679a-429f-98a1-d845ef3493e3",
   "metadata": {},
   "outputs": [],
   "source": [
    "# Écrire les données nettoyées dans un nouveau fichier CSV\n",
    "data_cleaned.to_csv('nettoyees_dataset-sell4all.csv', columns=['Pays', 'Age', 'Genre', 'Dépenses des clients'], index=False)\n"
   ]
  }
 ],
 "metadata": {
  "kernelspec": {
   "display_name": "Python 3 (ipykernel)",
   "language": "python",
   "name": "python3"
  },
  "language_info": {
   "codemirror_mode": {
    "name": "ipython",
    "version": 3
   },
   "file_extension": ".py",
   "mimetype": "text/x-python",
   "name": "python",
   "nbconvert_exporter": "python",
   "pygments_lexer": "ipython3",
   "version": "3.12.4"
  }
 },
 "nbformat": 4,
 "nbformat_minor": 5
}
